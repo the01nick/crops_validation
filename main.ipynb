{
 "cells": [
  {
   "cell_type": "code",
   "execution_count": 1,
   "id": "5ac11c04",
   "metadata": {},
   "outputs": [],
   "source": [
    "#for manipulations\n",
    "\n",
    "import numpy as np\n",
    "import pandas as pd\n",
    "\n",
    "#for data visualizations\n",
    "\n",
    "import matplotlib.pyplot as plt\n",
    "import seaborn as sns\n",
    "\n",
    "#for interactivity\n",
    "\n",
    "from ipywidgets import interact"
   ]
  },
  {
   "cell_type": "code",
   "execution_count": 2,
   "id": "a59fbc9b",
   "metadata": {},
   "outputs": [],
   "source": [
    "data  = pd.read_csv('data.csv')"
   ]
  },
  {
   "cell_type": "code",
   "execution_count": 3,
   "id": "553c80bd",
   "metadata": {},
   "outputs": [
    {
     "name": "stdout",
     "output_type": "stream",
     "text": [
      "        N   P   K  temperature   humidity        ph    rainfall   label\n",
      "0      90  42  43    20.879744  82.002744  6.502985  202.935536    rice\n",
      "1      85  58  41    21.770462  80.319644  7.038096  226.655537    rice\n",
      "2      60  55  44    23.004459  82.320763  7.840207  263.964248    rice\n",
      "3      74  35  40    26.491096  80.158363  6.980401  242.864034    rice\n",
      "4      78  42  42    20.130175  81.604873  7.628473  262.717340    rice\n",
      "...   ...  ..  ..          ...        ...       ...         ...     ...\n",
      "2195  107  34  32    26.774637  66.413269  6.780064  177.774507  coffee\n",
      "2196   99  15  27    27.417112  56.636362  6.086922  127.924610  coffee\n",
      "2197  118  33  30    24.131797  67.225123  6.362608  173.322839  coffee\n",
      "2198  117  32  34    26.272418  52.127394  6.758793  127.175293  coffee\n",
      "2199  104  18  30    23.603016  60.396475  6.779833  140.937041  coffee\n",
      "\n",
      "[2200 rows x 8 columns]\n"
     ]
    }
   ],
   "source": [
    "print(data)"
   ]
  },
  {
   "cell_type": "code",
   "execution_count": 4,
   "id": "876c2284",
   "metadata": {},
   "outputs": [
    {
     "name": "stdout",
     "output_type": "stream",
     "text": [
      "Shape (2200, 8)\n"
     ]
    }
   ],
   "source": [
    "print(\"Shape\",data.shape)\n",
    "\n",
    "# there 8 cols and 2200 rows...\n"
   ]
  },
  {
   "cell_type": "code",
   "execution_count": 5,
   "id": "d1a9f618",
   "metadata": {},
   "outputs": [
    {
     "data": {
      "text/plain": [
       "N              0\n",
       "P              0\n",
       "K              0\n",
       "temperature    0\n",
       "humidity       0\n",
       "ph             0\n",
       "rainfall       0\n",
       "label          0\n",
       "dtype: int64"
      ]
     },
     "execution_count": 5,
     "metadata": {},
     "output_type": "execute_result"
    }
   ],
   "source": [
    "# there no missing value if any missing value is there then replace with mean median\n",
    "data.isnull().sum()  \n"
   ]
  },
  {
   "cell_type": "code",
   "execution_count": 6,
   "id": "524ec416",
   "metadata": {},
   "outputs": [
    {
     "data": {
      "text/plain": [
       "rice           100\n",
       "maize          100\n",
       "jute           100\n",
       "cotton         100\n",
       "coconut        100\n",
       "papaya         100\n",
       "orange         100\n",
       "apple          100\n",
       "muskmelon      100\n",
       "watermelon     100\n",
       "grapes         100\n",
       "mango          100\n",
       "banana         100\n",
       "pomegranate    100\n",
       "lentil         100\n",
       "blackgram      100\n",
       "mungbean       100\n",
       "mothbeans      100\n",
       "pigeonpeas     100\n",
       "kidneybeans    100\n",
       "chickpea       100\n",
       "coffee         100\n",
       "Name: label, dtype: int64"
      ]
     },
     "execution_count": 6,
     "metadata": {},
     "output_type": "execute_result"
    }
   ],
   "source": [
    "#check unique value occurence \n",
    "data['label'].value_counts()"
   ]
  },
  {
   "cell_type": "code",
   "execution_count": 7,
   "id": "6378b4e1",
   "metadata": {},
   "outputs": [
    {
     "name": "stdout",
     "output_type": "stream",
     "text": [
      "Avg ratio of Nitrogen in the soil 50.551818181818184\n",
      "Avg ratio of phosphorous in the soil 53.36272727272727\n",
      "Avg ratio of potassium in the soil 48.14909090909091\n",
      "Avg ratio of Temp in the soil 25.616243851779544\n",
      "Avg ratio of Humidity in the soil 71.48177921778637\n",
      "Avg PH value of the soil 6.469480065256364\n",
      "Avg Rainfall the soil 103.46365541576817\n"
     ]
    }
   ],
   "source": [
    "print(\"Avg ratio of Nitrogen in the soil\",data['N'].mean())\n",
    "print(\"Avg ratio of phosphorous in the soil\",data['P'].mean())\n",
    "print(\"Avg ratio of potassium in the soil\",data['K'].mean())\n",
    "print(\"Avg ratio of Temp in the soil\",data['temperature'].mean())\n",
    "print(\"Avg ratio of Humidity in the soil\",data['humidity'].mean())\n",
    "print(\"Avg PH value of the soil\",data['ph'].mean())\n",
    "print(\"Avg Rainfall the soil\",data['rainfall'].mean())"
   ]
  },
  {
   "cell_type": "code",
   "execution_count": 8,
   "id": "e6c64518",
   "metadata": {},
   "outputs": [
    {
     "data": {
      "application/vnd.jupyter.widget-view+json": {
       "model_id": "d82bc26e08c44d3295ad5ef6566f3f05",
       "version_major": 2,
       "version_minor": 0
      },
      "text/plain": [
       "interactive(children=(Dropdown(description='crops', options=('rice', 'maize', 'jute', 'cotton', 'coconut', 'pa…"
      ]
     },
     "metadata": {},
     "output_type": "display_data"
    }
   ],
   "source": [
    "@interact\n",
    "def summary(crops=list(data['label'].value_counts().index)):\n",
    "    \n",
    "    x = data[data['label']==crops]\n",
    "    print(\"********_____________********\")\n",
    "\n",
    "    print(\"statistics for nitrogen\")\n",
    "    print(\"minimum nitrogen required:\",x['N'].min())\n",
    "    print(\"Average nitrogen required:\",x['N'].mean())\n",
    "    print(\"maximum nitrogen required:\",x['N'].max())\n",
    "    \n",
    "    print(\"********_____________********\")\n",
    "\n",
    "    print(\"statistics for phosphorous\")\n",
    "    print(\"minimum phosphorous required:\",x['P'].min())\n",
    "    print(\"Average phosphorous required:\",x['P'].mean())\n",
    "    print(\"maximum phosphorous required:\",x['P'].max())\n",
    "    \n",
    "    print(\"********_____________********\")\n",
    "    print(\"statistics for potassium\")\n",
    "    print(\"minimum potassium required:\",x['K'].min())\n",
    "    print(\"Average potassium required:\",x['K'].mean())\n",
    "    print(\"maximum potassium required:\",x['K'].max())\n",
    "    \n",
    "    \n",
    "    print(\"********_____________********\")\n",
    "    print(\"statistics for temperature\")\n",
    "    print(\"minimum temperature required:\",x['temperature'].min())\n",
    "    print(\"Average temperature required:\",x['temperature'].mean())\n",
    "    print(\"maximum temperature required:\",x['temperature'].max())\n",
    "    \n",
    "    \n",
    "    print(\"********_____________********\")\n",
    "    print(\"statistics for Humidity\")\n",
    "    print(\"minimum Humidity required:\",x['humidity'].min())\n",
    "    print(\"Average Humidity required:\",x['humidity'].mean())\n",
    "    print(\"maximum Humidity required:\",x['humidity'].max())\n",
    "    \n",
    "    \n",
    "    print(\"********_____________********\")\n",
    "    print(\"statistics for PH\")\n",
    "    print(\"minimum PH required:\",x['ph'].min())\n",
    "    print(\"Average PH required:\",x['ph'].mean())\n",
    "    print(\"maximum PH required:\",x['ph'].max())\n",
    "    \n",
    "    \n",
    "    \n",
    "    print(\"********_____________********\")\n",
    "    print(\"statistics for Rainfall\")\n",
    "    print(\"minimum Rainfall required:\",x['rainfall'].min())\n",
    "    print(\"Average Rainfall required:\",x['rainfall'].mean())\n",
    "    print(\"maximum Rainfall required:\",x['rainfall'].max())\n",
    "    \n",
    "    \n",
    "    \n",
    "    \n",
    "    \n",
    "    \n",
    "    "
   ]
  },
  {
   "cell_type": "code",
   "execution_count": 9,
   "id": "e73dd3d6",
   "metadata": {},
   "outputs": [
    {
     "data": {
      "application/vnd.jupyter.widget-view+json": {
       "model_id": "a6ff2357bfd34c879c2256638ef9f3e3",
       "version_major": 2,
       "version_minor": 0
      },
      "text/plain": [
       "interactive(children=(Dropdown(description='conditions', options=('N', 'P', 'K', 'temperature', 'ph', 'humidit…"
      ]
     },
     "metadata": {},
     "output_type": "display_data"
    }
   ],
   "source": [
    "@interact\n",
    "def compare(conditions=['N','P','K','temperature','ph','humidity','rainfall']):\n",
    "    print(\"Average value for conditions is: \",data[conditions].mean())\n",
    "    print(\"********______________________________ ********\")\n",
    "#     print(\"Rice: {0:.2f}\".format(data[(data['label']=='rice')][conditions].mean()))\n",
    "    print(\"Rice:\",data[data['label'] == 'rice'][conditions].mean()) \n",
    "    print(\"Maize: {0:.2f}\".format(data[(data['label']=='maize')][conditions].mean()))\n",
    "    print(\"jute: {0:.2f}\".format(data[(data['label']=='jute')][conditions].mean()))\n",
    "    print(\"muskmelon: {0:.2f}\".format(data[(data['label']=='muskmelon')][conditions].mean()))\n",
    "    print(\"watermelon: {0:.2f}\".format(data[(data['label']=='watermelon')][conditions].mean()))\n",
    "    print(\"mango: {0:.2f}\".format(data[(data['label']=='mango')][conditions].mean()))\n",
    "    print(\"grapes: {0:.2f}\".format(data[(data['label']=='grapes')][conditions].mean()))\n",
    "    print(\"banana: {0:.2f}\".format(data[(data['label']=='banana')][conditions].mean()))\n",
    "    print(\"pomegranate: {0:.2f}\".format(data[(data['label']=='pomegranate')][conditions].mean()))\n",
    "    print(\"lentil: {0:.2f}\".format(data[(data['label']=='lentil')][conditions].mean()))\n",
    "    print(\"blackgram: {0:.2f}\".format(data[(data['label']=='blackgram')][conditions].mean()))\n",
    "    print(\"mothbeans: {0:.2f}\".format(data[(data['label']=='mothbeans')][conditions].mean()))\n",
    "    print(\"pigeonpeas: {0:.2f}\".format(data[(data['label']=='pigeonpeas')][conditions].mean()))\n",
    "    print(\"kidneybeans: {0:.2f}\".format(data[(data['label']=='kidneybeans')][conditions].mean()))\n",
    "    print(\"chickpea: {0:.2f}\".format(data[(data['label']=='chickpea')][conditions].mean()))\n",
    "    print(\"coffee: {0:.2f}\".format(data[(data['label']=='coffee')][conditions].mean()))\n",
    "    print(\"apple: {0:.2f}\".format(data[(data['label']=='apple')][conditions].mean()))\n",
    "    print(\"orange: {0:.2f}\".format(data[(data['label']=='orange')][conditions].mean()))\n",
    "    print(\"papaya: {0:.2f}\".format(data[(data['label']=='papaya')][conditions].mean()))\n",
    "    print(\"coconut: {0:.2f}\".format(data[(data['label']=='coconut')][conditions].mean()))\n",
    "    print(\"cotton: {0:.2f}\".format(data[(data['label']=='cotton')][conditions].mean()))\n",
    "    "
   ]
  },
  {
   "cell_type": "code",
   "execution_count": 10,
   "id": "e2cc8c6f",
   "metadata": {},
   "outputs": [
    {
     "data": {
      "application/vnd.jupyter.widget-view+json": {
       "model_id": "b60e1b5ac3ca4d8b9b240d4761ecb065",
       "version_major": 2,
       "version_minor": 0
      },
      "text/plain": [
       "interactive(children=(Dropdown(description='conditions', options=('N', 'P', 'K', 'temoerature', 'ph', 'humidit…"
      ]
     },
     "metadata": {},
     "output_type": "display_data"
    }
   ],
   "source": [
    "@interact\n",
    "def compare(conditions=['N','P','K','temoerature','ph','humidity','rainfall']):\n",
    "    print(\"Crops which required greater then average:\",conditions,'\\n')\n",
    "    print(data[data[conditions]>data[conditions].mean()]['label'].unique())\n",
    "    print(\"_______________________________________________\\n\")\n",
    "    print(\"Crops which required less then average:\",conditions,'\\n')\n",
    "    print(data[data[conditions]<=data[conditions].mean()]['label'].unique())\n",
    "    \n",
    "# what is distributaion\n",
    "# it is a basic concept of statistics all the values of rows and column assosiate occrence value find out...  also knows about perticular row and columns outliers..."
   ]
  },
  {
   "cell_type": "code",
   "execution_count": 11,
   "id": "42baba58",
   "metadata": {},
   "outputs": [
    {
     "name": "stdout",
     "output_type": "stream",
     "text": [
      "Crops Which Requires Very High Ratio of Nitrogen content in Soil: ['cotton']\n",
      "Crops Which Requires Very High Ratio of Phosphorous content in Soil: ['grapes' 'apple']\n",
      "Crops Which Requires Very High Ratio of Potassium content in Soil: ['grapes' 'apple']\n",
      "Crops Which Requires Very High Rainfall: ['rice' 'papaya' 'coconut']\n",
      "Crops Which Requires Very Low temperature: ['grapes']\n",
      "Crops Which Requires Very High temperature: ['grapes' 'papaya']\n",
      "Crops Which Requires Very Low Humidity: ['chickpea' 'kidneybeans']\n",
      "Crops Which Requires Very Low ph: ['mothbeans']\n",
      "Crops Which Requires Very High ph: ['mothbeans']\n"
     ]
    }
   ],
   "source": [
    "print(\"Crops Which Requires Very High Ratio of Nitrogen content in Soil:\",data[data['N']>120]['label'].unique())\n",
    "print(\"Crops Which Requires Very High Ratio of Phosphorous content in Soil:\",data[data['P']>100]['label'].unique())\n",
    "print(\"Crops Which Requires Very High Ratio of Potassium content in Soil:\",data[data['K']>200]['label'].unique())\n",
    "print(\"Crops Which Requires Very High Rainfall:\",data[data['rainfall']>200]['label'].unique())\n",
    "print(\"Crops Which Requires Very Low temperature:\",data[data['temperature']<10]['label'].unique())\n",
    "print(\"Crops Which Requires Very High temperature:\",data[data['temperature']>40]['label'].unique())\n",
    "print(\"Crops Which Requires Very Low Humidity:\",data[data['humidity']<20]['label'].unique())\n",
    "print(\"Crops Which Requires Very Low ph:\",data[data['ph']<4]['label'].unique())\n",
    "print(\"Crops Which Requires Very High ph:\",data[data['ph']>9]['label'].unique())\n"
   ]
  },
  {
   "cell_type": "code",
   "execution_count": 12,
   "id": "7a2e8d1c",
   "metadata": {},
   "outputs": [
    {
     "name": "stdout",
     "output_type": "stream",
     "text": [
      "Summer Crops...\n",
      "\n",
      "['rice' 'maize' 'chickpea' 'kidneybeans' 'pigeonpeas' 'mothbeans'\n",
      " 'mungbean' 'blackgram' 'lentil' 'pomegranate' 'banana' 'mango' 'grapes'\n",
      " 'watermelon' 'muskmelon' 'apple' 'orange' 'papaya' 'coconut' 'cotton'\n",
      " 'jute' 'coffee']\n",
      "Winter Crops...\n",
      "\n",
      "[]\n",
      "Rainy Crops...\n",
      "\n",
      "['rice' 'maize' 'chickpea' 'kidneybeans' 'pigeonpeas' 'mothbeans'\n",
      " 'mungbean' 'blackgram' 'lentil' 'pomegranate' 'banana' 'mango' 'grapes'\n",
      " 'watermelon' 'muskmelon' 'apple' 'orange' 'papaya' 'coconut' 'cotton'\n",
      " 'jute' 'coffee']\n"
     ]
    }
   ],
   "source": [
    "print(\"Summer Crops...\\n\")\n",
    "print(data[data['temperature']>30 & (data['humidity']>50)]['label'].unique())\n",
    "\n",
    "print(\"Winter Crops...\\n\")\n",
    "print(data[data['temperature']<20 & (data['humidity']>30)]['label'].unique())\n",
    "\n",
    "print(\"Rainy Crops...\\n\")\n",
    "print(data[data['rainfall']>200 & (data['humidity']>30)]['label'].unique())"
   ]
  },
  {
   "cell_type": "code",
   "execution_count": 13,
   "id": "e632f0d9",
   "metadata": {},
   "outputs": [
    {
     "name": "stdout",
     "output_type": "stream",
     "text": [
      "(2200, 7)\n"
     ]
    }
   ],
   "source": [
    "# import sklearn\n",
    "from sklearn.cluster import KMeans\n",
    "x = data.drop(['label'],axis=1)\n",
    "x = x.values\n",
    "print(x.shape)"
   ]
  },
  {
   "cell_type": "code",
   "execution_count": 14,
   "id": "b5acc353",
   "metadata": {},
   "outputs": [
    {
     "data": {
      "image/png": "[encoded data removed]",
      "text/plain": [
       "<Figure size 1000x400 with 1 Axes>"
      ]
     },
     "metadata": {},
     "output_type": "display_data"
    }
   ],
   "source": [
    "plt.rcParams['figure.figsize']=(10,4)\n",
    "wcss=[]\n",
    "for i in range(1,11):\n",
    "    km=KMeans(n_clusters=i,init='k-means++',max_iter=300,n_init=10,random_state=0)\n",
    "    km.fit(x)\n",
    "    wcss.append(km.inertia_)\n",
    "    \n",
    "    \n",
    "plt.plot(range(1,11),wcss)\n",
    "plt.title(\"The Elbow Method\",fontsize=20)\n",
    "plt.xlabel('No.of Cluster')\n",
    "plt.ylabel('wcss')\n",
    "plt.show()\n"
   ]
  },
  {
   "cell_type": "code",
   "execution_count": 15,
   "id": "cd1c40e7",
   "metadata": {},
   "outputs": [
    {
     "name": "stdout",
     "output_type": "stream",
     "text": [
      "First Cluster:  ['kidneybeans' 'pigeonpeas' 'mothbeans' 'mango']\n",
      "Second Cluster:  ['grapes' 'apple']\n",
      "Third Cluster:  ['rice' 'papaya' 'jute' 'coffee']\n",
      "Forth Cluster:  ['watermelon' 'muskmelon' 'papaya']\n"
     ]
    }
   ],
   "source": [
    "km=KMeans(n_clusters=i,init='k-means++',max_iter=300,n_init=10,random_state=0)\n",
    "y_means=km.fit_predict(x)\n",
    "\n",
    "\n",
    "a = data['label']\n",
    "y_means=pd.DataFrame(y_means)\n",
    "z=pd.concat([y_means,a],axis=1)\n",
    "z=z.rename(columns={0:'cluster'})\n",
    "\n",
    "\n",
    "print(\"First Cluster: \",z[z['cluster']==0]['label'].unique())\n",
    "\n",
    "print(\"Second Cluster: \",z[z['cluster']==1]['label'].unique())\n",
    "\n",
    "print(\"Third Cluster: \",z[z['cluster']==2]['label'].unique())\n",
    "\n",
    "print(\"Forth Cluster: \",z[z['cluster']==3]['label'].unique())\n",
    "\n",
    "\n"
   ]
  },
  {
   "cell_type": "code",
   "execution_count": 16,
   "id": "10f538f2",
   "metadata": {},
   "outputs": [
    {
     "name": "stdout",
     "output_type": "stream",
     "text": [
      "shape of x (2200, 7)\n",
      "shape of y (2200,)\n"
     ]
    }
   ],
   "source": [
    "y=data['label']\n",
    "x=data.drop(['label'],axis=1)\n",
    "\n",
    "print('shape of x',x.shape)\n",
    "print('shape of y',y.shape)\n"
   ]
  },
  {
   "cell_type": "code",
   "execution_count": 17,
   "id": "d7dc21c9",
   "metadata": {},
   "outputs": [
    {
     "name": "stdout",
     "output_type": "stream",
     "text": [
      "shape of x train  (1760, 7)\n",
      "shape of x test  (440, 7)\n",
      "shape of y train  (1760,)\n",
      "shape of y test  (440,)\n"
     ]
    }
   ],
   "source": [
    "\n",
    "from sklearn.model_selection import train_test_split\n",
    "xtrain,xtest,ytrain,ytest=train_test_split(x,y,test_size=0.2,random_state=0)\n",
    "print(\"shape of x train \",xtrain.shape)\n",
    "print(\"shape of x test \",xtest.shape)\n",
    "print(\"shape of y train \",ytrain.shape)\n",
    "print(\"shape of y test \",ytest.shape)\n",
    "\n"
   ]
  },
  {
   "cell_type": "code",
   "execution_count": 18,
   "id": "a104cc6e",
   "metadata": {},
   "outputs": [
    {
     "name": "stderr",
     "output_type": "stream",
     "text": [
      "/home/nick/.local/lib/python3.10/site-packages/sklearn/linear_model/_logistic.py:444: ConvergenceWarning: lbfgs failed to converge (status=1):\n",
      "STOP: TOTAL NO. of ITERATIONS REACHED LIMIT.\n",
      "\n",
      "Increase the number of iterations (max_iter) or scale the data as shown in:\n",
      "    https://scikit-learn.org/stable/modules/preprocessing.html\n",
      "Please also refer to the documentation for alternative solver options:\n",
      "    https://scikit-learn.org/stable/modules/linear_model.html#logistic-regression\n",
      "  n_iter_i = _check_optimize_result(\n"
     ]
    }
   ],
   "source": [
    "from sklearn.linear_model import LogisticRegression\n",
    "\n",
    "model=LogisticRegression()\n",
    "model.fit(xtrain,ytrain)\n",
    "y_pred=model.predict(xtest)"
   ]
  },
  {
   "cell_type": "code",
   "execution_count": 19,
   "id": "f9abc3ee",
   "metadata": {},
   "outputs": [],
   "source": [
    "from sklearn.metrics import confusion_matrix"
   ]
  },
  {
   "cell_type": "code",
   "execution_count": 20,
   "id": "ff1cac80",
   "metadata": {},
   "outputs": [
    {
     "data": {
      "image/png": "[encoded data removed]",
      "text/plain": [
       "<Figure size 1000x1000 with 2 Axes>"
      ]
     },
     "metadata": {},
     "output_type": "display_data"
    }
   ],
   "source": [
    "plt.rcParams['figure.figsize']=(10,10)\n",
    "cm=confusion_matrix(ytest,y_pred)\n",
    "sns.heatmap(cm,annot=True,cmap='Wistia')\n",
    "plt.title('Confusion matrix for logistic regression',fontsize=20)\n",
    "plt.show()"
   ]
  },
  {
   "cell_type": "code",
   "execution_count": 21,
   "id": "d6533df3",
   "metadata": {},
   "outputs": [
    {
     "name": "stdout",
     "output_type": "stream",
     "text": [
      "              precision    recall  f1-score   support\n",
      "\n",
      "       apple       1.00      1.00      1.00        18\n",
      "      banana       1.00      1.00      1.00        18\n",
      "   blackgram       0.86      0.82      0.84        22\n",
      "    chickpea       1.00      1.00      1.00        23\n",
      "     coconut       1.00      1.00      1.00        15\n",
      "      coffee       1.00      1.00      1.00        17\n",
      "      cotton       0.89      1.00      0.94        16\n",
      "      grapes       1.00      1.00      1.00        18\n",
      "        jute       0.84      1.00      0.91        21\n",
      " kidneybeans       1.00      1.00      1.00        20\n",
      "      lentil       0.94      0.94      0.94        17\n",
      "       maize       0.94      0.89      0.91        18\n",
      "       mango       1.00      1.00      1.00        21\n",
      "   mothbeans       0.88      0.92      0.90        25\n",
      "    mungbean       1.00      1.00      1.00        17\n",
      "   muskmelon       1.00      1.00      1.00        23\n",
      "      orange       1.00      1.00      1.00        23\n",
      "      papaya       1.00      0.95      0.98        21\n",
      "  pigeonpeas       1.00      1.00      1.00        22\n",
      " pomegranate       1.00      1.00      1.00        23\n",
      "        rice       1.00      0.84      0.91        25\n",
      "  watermelon       1.00      1.00      1.00        17\n",
      "\n",
      "    accuracy                           0.97       440\n",
      "   macro avg       0.97      0.97      0.97       440\n",
      "weighted avg       0.97      0.97      0.97       440\n",
      "\n"
     ]
    }
   ],
   "source": [
    "from sklearn.metrics import classification_report\n",
    "cr=classification_report(ytest,y_pred)\n",
    "print(cr)"
   ]
  },
  {
   "cell_type": "code",
   "execution_count": 22,
   "id": "f15322bf",
   "metadata": {},
   "outputs": [
    {
     "name": "stdout",
     "output_type": "stream",
     "text": [
      "['rice']\n"
     ]
    },
    {
     "name": "stderr",
     "output_type": "stream",
     "text": [
      "/home/nick/.local/lib/python3.10/site-packages/sklearn/base.py:450: UserWarning: X does not have valid feature names, but LogisticRegression was fitted with feature names\n",
      "  warnings.warn(\n"
     ]
    }
   ],
   "source": [
    "pr=model.predict((np.array([[90,40,40,20,80,7,210]])))\n",
    "print(pr)\n",
    "# pr1 = model.predict((np.array([[107  ,34 , 32   , 26.774637  ,66.413269  ,6.780064,177]])))\n",
    "# print(pr1)"
   ]
  },
  {
   "cell_type": "code",
   "execution_count": 23,
   "id": "daf895db",
   "metadata": {},
   "outputs": [],
   "source": [
    "import pickle"
   ]
  },
  {
   "cell_type": "code",
   "execution_count": 24,
   "id": "0953a66f",
   "metadata": {},
   "outputs": [],
   "source": [
    "with open(\"model\",'wb') as f:\n",
    "    pickle.dump(model,f)"
   ]
  },
  {
   "cell_type": "code",
   "execution_count": 25,
   "id": "61109241",
   "metadata": {},
   "outputs": [],
   "source": [
    "with open('model','rb') as f1:\n",
    "    model = pickle.load(f1)"
   ]
  },
  {
   "cell_type": "code",
   "execution_count": 28,
   "id": "fd1a0a76",
   "metadata": {},
   "outputs": [
    {
     "name": "stderr",
     "output_type": "stream",
     "text": [
      "/home/nick/.local/lib/python3.10/site-packages/sklearn/base.py:450: UserWarning: X does not have valid feature names, but LogisticRegression was fitted with feature names\n",
      "  warnings.warn(\n"
     ]
    }
   ],
   "source": [
    "result = model.predict((np.array([[90,40,40,20,80,7,210]])))"
   ]
  },
  {
   "cell_type": "code",
   "execution_count": 29,
   "id": "0aa438ac",
   "metadata": {},
   "outputs": [
    {
     "name": "stdout",
     "output_type": "stream",
     "text": [
      "This Atmospheric Condition is best for  rice   Crop.\n"
     ]
    }
   ],
   "source": [
    "print(f\"This Atmospheric Condition is best for  {result[0]}   Crop.\") "
   ]
  },
  {
   "cell_type": "code",
   "execution_count": null,
   "id": "49244eda",
   "metadata": {},
   "outputs": [],
   "source": []
  },
  {
   "cell_type": "code",
   "execution_count": null,
   "id": "6dfda6d8",
   "metadata": {},
   "outputs": [],
   "source": []
  },
  {
   "cell_type": "code",
   "execution_count": null,
   "id": "3f34ee00",
   "metadata": {},
   "outputs": [],
   "source": []
  },
  {
   "cell_type": "code",
   "execution_count": null,
   "id": "ebc963d7",
   "metadata": {},
   "outputs": [],
   "source": []
  },
  {
   "cell_type": "code",
   "execution_count": null,
   "id": "16bbaa4b",
   "metadata": {},
   "outputs": [],
   "source": []
  },
  {
   "cell_type": "code",
   "execution_count": null,
   "id": "3faeb39d",
   "metadata": {},
   "outputs": [],
   "source": []
  },
  {
   "cell_type": "code",
   "execution_count": null,
   "id": "9088a39e",
   "metadata": {},
   "outputs": [],
   "source": []
  },
  {
   "cell_type": "code",
   "execution_count": null,
   "id": "e52355cb",
   "metadata": {},
   "outputs": [],
   "source": []
  },
  {
   "cell_type": "code",
   "execution_count": null,
   "id": "67573450",
   "metadata": {},
   "outputs": [],
   "source": []
  },
  {
   "cell_type": "code",
   "execution_count": null,
   "id": "c43aa560",
   "metadata": {},
   "outputs": [],
   "source": []
  },
  {
   "cell_type": "code",
   "execution_count": null,
   "id": "2456d310",
   "metadata": {},
   "outputs": [],
   "source": []
  },
  {
   "cell_type": "code",
   "execution_count": null,
   "id": "092cb16a",
   "metadata": {},
   "outputs": [],
   "source": []
  },
  {
   "cell_type": "code",
   "execution_count": null,
   "id": "5395cca8",
   "metadata": {},
   "outputs": [],
   "source": []
  },
  {
   "cell_type": "code",
   "execution_count": null,
   "id": "d1f42e67",
   "metadata": {},
   "outputs": [],
   "source": []
  },
  {
   "cell_type": "code",
   "execution_count": null,
   "id": "13282d03",
   "metadata": {},
   "outputs": [],
   "source": []
  },
  {
   "cell_type": "code",
   "execution_count": null,
   "id": "f6d3690d",
   "metadata": {},
   "outputs": [],
   "source": []
  },
  {
   "cell_type": "code",
   "execution_count": null,
   "id": "e437596d",
   "metadata": {},
   "outputs": [],
   "source": []
  }
 ],
 "metadata": {
  "kernelspec": {
   "display_name": "Python 3 (ipykernel)",
   "language": "python",
   "name": "python3"
  },
  "language_info": {
   "codemirror_mode": {
    "name": "ipython",
    "version": 3
   },
   "file_extension": ".py",
   "mimetype": "text/x-python",
   "name": "python",
   "nbconvert_exporter": "python",
   "pygments_lexer": "ipython3",
   "version": "3.10.6"
  }
 },
 "nbformat": 4,
 "nbformat_minor": 5
}
